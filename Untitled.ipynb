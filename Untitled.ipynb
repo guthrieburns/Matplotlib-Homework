{
 "cells": [
  {
   "cell_type": "code",
   "execution_count": 3,
   "metadata": {
    "collapsed": true
   },
   "outputs": [],
   "source": [
    "import matplotlib.pyplot as plt\n",
    "import numpy as np\n",
    "import csv\n",
    "import pandas as pd"
   ]
  },
  {
   "cell_type": "code",
   "execution_count": 23,
   "metadata": {},
   "outputs": [
    {
     "data": {
      "text/html": [
       "<div>\n",
       "<style scoped>\n",
       "    .dataframe tbody tr th:only-of-type {\n",
       "        vertical-align: middle;\n",
       "    }\n",
       "\n",
       "    .dataframe tbody tr th {\n",
       "        vertical-align: top;\n",
       "    }\n",
       "\n",
       "    .dataframe thead th {\n",
       "        text-align: right;\n",
       "    }\n",
       "</style>\n",
       "<table border=\"1\" class=\"dataframe\">\n",
       "  <thead>\n",
       "    <tr style=\"text-align: right;\">\n",
       "      <th></th>\n",
       "      <th>city</th>\n",
       "      <th>driver_count</th>\n",
       "      <th>type</th>\n",
       "      <th>date</th>\n",
       "      <th>fare</th>\n",
       "      <th>ride_id</th>\n",
       "    </tr>\n",
       "  </thead>\n",
       "  <tbody>\n",
       "    <tr>\n",
       "      <th>0</th>\n",
       "      <td>Tammyburgh</td>\n",
       "      <td>11</td>\n",
       "      <td>Urban</td>\n",
       "      <td>2017-01-02 10:56:28</td>\n",
       "      <td>12.40</td>\n",
       "      <td>7963408790849</td>\n",
       "    </tr>\n",
       "    <tr>\n",
       "      <th>1</th>\n",
       "      <td>Tammyburgh</td>\n",
       "      <td>11</td>\n",
       "      <td>Urban</td>\n",
       "      <td>2017-01-02 04:28:03</td>\n",
       "      <td>18.78</td>\n",
       "      <td>2315208159060</td>\n",
       "    </tr>\n",
       "    <tr>\n",
       "      <th>2</th>\n",
       "      <td>Tammyburgh</td>\n",
       "      <td>11</td>\n",
       "      <td>Urban</td>\n",
       "      <td>2017-01-03 03:00:08</td>\n",
       "      <td>30.10</td>\n",
       "      <td>558639764959</td>\n",
       "    </tr>\n",
       "    <tr>\n",
       "      <th>3</th>\n",
       "      <td>Tammyburgh</td>\n",
       "      <td>11</td>\n",
       "      <td>Urban</td>\n",
       "      <td>2017-01-01 00:10:21</td>\n",
       "      <td>7.76</td>\n",
       "      <td>9113511454178</td>\n",
       "    </tr>\n",
       "    <tr>\n",
       "      <th>4</th>\n",
       "      <td>Tammyburgh</td>\n",
       "      <td>11</td>\n",
       "      <td>Urban</td>\n",
       "      <td>2017-01-02 05:22:44</td>\n",
       "      <td>22.00</td>\n",
       "      <td>4171010688543</td>\n",
       "    </tr>\n",
       "  </tbody>\n",
       "</table>\n",
       "</div>"
      ],
      "text/plain": [
       "         city  driver_count   type                 date   fare        ride_id\n",
       "0  Tammyburgh            11  Urban  2017-01-02 10:56:28  12.40  7963408790849\n",
       "1  Tammyburgh            11  Urban  2017-01-02 04:28:03  18.78  2315208159060\n",
       "2  Tammyburgh            11  Urban  2017-01-03 03:00:08  30.10   558639764959\n",
       "3  Tammyburgh            11  Urban  2017-01-01 00:10:21   7.76  9113511454178\n",
       "4  Tammyburgh            11  Urban  2017-01-02 05:22:44  22.00  4171010688543"
      ]
     },
     "execution_count": 23,
     "metadata": {},
     "output_type": "execute_result"
    }
   ],
   "source": [
    "driver_df1 = pd.read_csv(\"Data/city_data.csv\")\n",
    "driver_df2 = pd.read_csv(\"Data/ride_data.csv\")\n",
    "\n",
    "combined_ride_data = pd.merge(driver_df1, driver_df2, on=\"city\")\n",
    "\n",
    "combined_ride_data.head()"
   ]
  },
  {
   "cell_type": "code",
   "execution_count": 24,
   "metadata": {},
   "outputs": [
    {
     "data": {
      "text/plain": [
       "city\n",
       "Adamschester          29.594444\n",
       "Alexisfort            27.366970\n",
       "Amberberg             28.624375\n",
       "Anthonyfurt           29.491176\n",
       "Boyleberg             32.396000\n",
       "Brianfurt             24.506818\n",
       "Campbellmouth         34.177500\n",
       "Catherinebury         27.307931\n",
       "Curtismouth           25.051935\n",
       "Davidbury             30.834000\n",
       "Davidsonfurt          32.085000\n",
       "East Amanda           28.451429\n",
       "East April            29.988750\n",
       "East James            26.550714\n",
       "East Jermaine         26.201250\n",
       "East Johnnyborough    30.316000\n",
       "East Karenmouth       23.778000\n",
       "East Rose             20.933636\n",
       "Elizabethland         29.865000\n",
       "Evansburgh            23.481739\n",
       "Fergusonburgh         31.905238\n",
       "Floresbury            20.767200\n",
       "Gatesborough          24.761429\n",
       "Hallmouth             32.337895\n",
       "Heatherland           31.678571\n",
       "Name: fare, dtype: float64"
      ]
     },
     "execution_count": 24,
     "metadata": {},
     "output_type": "execute_result"
    }
   ],
   "source": [
    "grouped_data = combined_ride_data.groupby(['city'])['fare'].mean()\n",
    "\n",
    "grouped_data.head(25)"
   ]
  },
  {
   "cell_type": "code",
   "execution_count": null,
   "metadata": {
    "collapsed": true
   },
   "outputs": [],
   "source": []
  }
 ],
 "metadata": {
  "kernelspec": {
   "display_name": "Python [conda env:PythonData]",
   "language": "python",
   "name": "conda-env-PythonData-py"
  },
  "language_info": {
   "codemirror_mode": {
    "name": "ipython",
    "version": 3
   },
   "file_extension": ".py",
   "mimetype": "text/x-python",
   "name": "python",
   "nbconvert_exporter": "python",
   "pygments_lexer": "ipython3",
   "version": "3.6.4"
  }
 },
 "nbformat": 4,
 "nbformat_minor": 2
}
